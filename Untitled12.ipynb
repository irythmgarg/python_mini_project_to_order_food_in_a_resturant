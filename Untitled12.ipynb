{
  "nbformat": 4,
  "nbformat_minor": 0,
  "metadata": {
    "colab": {
      "provenance": [],
      "authorship_tag": "ABX9TyPynZTOfzi9u+8fsXk99iNl",
      "include_colab_link": true
    },
    "kernelspec": {
      "name": "python3",
      "display_name": "Python 3"
    },
    "language_info": {
      "name": "python"
    }
  },
  "cells": [
    {
      "cell_type": "markdown",
      "metadata": {
        "id": "view-in-github",
        "colab_type": "text"
      },
      "source": [
        "<a href=\"https://colab.research.google.com/github/irythmgarg/python_mini_project_to_order_food_in_a_resturant/blob/main/Untitled12.ipynb\" target=\"_parent\"><img src=\"https://colab.research.google.com/assets/colab-badge.svg\" alt=\"Open In Colab\"/></a>"
      ]
    },
    {
      "cell_type": "code",
      "source": [
        "# creating menu\n",
        "menu={\"pizza\":240,\"dosa\":150,\"cold coffee\":120,\"garlic bread\":120,\"soft drink\":40,\"maggie\":30,\"tea\":15};\n",
        "\n",
        "\n",
        "print(\"welcome to our resort\");\n",
        "print (menu)\n",
        "total_order=0;\n",
        "want=\"yes\";\n",
        "while(want==\"yes\"):\n",
        "  item=input(\"enter the dish do you want to eat\");\n",
        "  if(item in menu):\n",
        "    total_order=total_order+menu[item];\n",
        "  else:\n",
        "    print(\"item not available\");\n",
        "  print(total_order)\n",
        "  want=input(\"more item or not\");\n",
        "\n"
      ],
      "metadata": {
        "colab": {
          "base_uri": "https://localhost:8080/"
        },
        "id": "iZG7E2T7fZ18",
        "outputId": "9991d123-7e9d-4fdc-c42e-24003793ef2e"
      },
      "execution_count": 9,
      "outputs": [
        {
          "name": "stdout",
          "output_type": "stream",
          "text": [
            "welcome to our resort\n",
            "{'pizza': 240, 'dosa': 150, 'cold coffee': 120, 'garlic bread': 120, 'soft drink': 40, 'maggie': 30, 'tea': 15}\n",
            "enter the dish do you want to eatcold coffee\n",
            "120\n",
            "more item or notyes\n",
            "enter the dish do you want to eatpizza\n",
            "360\n",
            "more item or notyes\n",
            "enter the dish do you want to eatsoft drinks\n",
            "item not available\n",
            "360\n",
            "more item or notyes\n",
            "enter the dish do you want to eatdosa\n",
            "510\n",
            "more item or notyes\n",
            "enter the dish do you want to eatdosa\n",
            "660\n",
            "more item or notyes\n",
            "enter the dish do you want to eatmaggie\n",
            "690\n",
            "more item or notyes\n",
            "enter the dish do you want to eatmaggie\n",
            "720\n",
            "more item or notyes\n",
            "enter the dish do you want to eatsoft drink\n",
            "760\n",
            "more item or notno\n"
          ]
        }
      ]
    }
  ]
}